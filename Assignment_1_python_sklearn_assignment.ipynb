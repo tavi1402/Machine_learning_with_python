{
  "cells": [
    {
      "cell_type": "markdown",
      "metadata": {
        "id": "view-in-github",
        "colab_type": "text"
      },
      "source": [
        "<a href=\"https://colab.research.google.com/github/tavi1402/Pytorch_machine_learning/blob/main/Assignment_1_python_sklearn_assignment.ipynb\" target=\"_parent\"><img src=\"https://colab.research.google.com/assets/colab-badge.svg\" alt=\"Open In Colab\"/></a>"
      ]
    },
    {
      "cell_type": "markdown",
      "id": "leading-boundary",
      "metadata": {
        "id": "leading-boundary"
      },
      "source": [
        "# House Price Prediction with Linear Regression\n",
        "\n",
        "![](https://i.imgur.com/3sw1fY9.jpg)\n",
        "\n",
        "In this assignment, you're going to predict the price of a house using information like its location, area, no. of rooms etc. You'll use the dataset from the [House Prices - Advanced Regression Techniques](https://www.kaggle.com/c/house-prices-advanced-regression-techniques) competition on [Kaggle](https://kaggle.com). We'll follow a step-by-step process to train our model:\n",
        "\n",
        "1. Download and explore the data\n",
        "2. Prepare the dataset for training\n",
        "3. Train a linear regression model\n",
        "4. Make predictions and evaluate the model\n",
        "\n",
        "As you go through this notebook, you will find a **???** in certain places. Your job is to replace the **???** with appropriate code or values, to ensure that the notebook runs properly end-to-end and your machine learning model is trained properly without errors.\n",
        "\n",
        "**Guidelines**\n",
        "\n",
        "1. Make sure to run all the code cells in order. Otherwise, you may get errors like `NameError` for undefined variables.\n",
        "2. Do not change variable names, delete cells, or disturb other existing code. It may cause problems during evaluation.\n",
        "3. In some cases, you may need to add some code cells or new statements before or after the line of code containing the **???**.\n",
        "4. Since you'll be using a temporary online service for code execution, save your work by running `jovian.commit` at regular intervals.\n",
        "5. Review the \"Evaluation Criteria\" for the assignment carefully and make sure your submission meets all the criteria.\n",
        "6. Questions marked **(Optional)** will not be considered for evaluation and can be skipped. They are for your learning.\n",
        "7. It's okay to ask for help & discuss ideas on the [community forum](https://jovian.ai/forum/c/zero-to-gbms/gbms-assignment-1/100), but please don't post full working code, to give everyone an opportunity to solve the assignment on their own.\n",
        "\n",
        "\n",
        "**Important Links**:\n",
        "\n",
        "- Make a submission here: https://jovian.ai/learn/machine-learning-with-python-zero-to-gbms/assignment/assignment-1-train-your-first-ml-model\n",
        "- Ask questions, discuss ideas and get help here: https://jovian.ai/forum/c/zero-to-gbms/gbms-assignment-1/100\n",
        "- Review the following notebooks:\n",
        "    - https://jovian.ai/aakashns/python-sklearn-linear-regression\n",
        "    - https://jovian.ai/aakashns/python-sklearn-logistic-regression\n",
        "\n",
        "\n",
        "\n"
      ]
    },
    {
      "cell_type": "markdown",
      "id": "modern-preparation",
      "metadata": {
        "id": "modern-preparation"
      },
      "source": [
        "## How to Run the Code and Save Your Work\n",
        "\n",
        "\n",
        "**Option 1: Running using free online resources (1-click, recommended):** The easiest way to start executing the code is to click the **Run** button at the top of this page and select **Run on Binder**. This will set up a cloud-based Jupyter notebook server and allow you to modify/execute the code.\n",
        "\n",
        "\n",
        "**Option 2: Running on your computer locally:** To run the code on your computer locally, you'll need to set up [Python](https://www.python.org), download the notebook and install the required libraries. Click the **Run** button at the top of this page, select the **Run Locally** option, and follow the instructions.\n",
        "\n",
        "**Saving your work**: You can save a snapshot of the assignment to your [Jovian](https://jovian.ai) profile, so that you can access it later and continue your work. Keep saving your work by running `jovian.commit` from time to time."
      ]
    },
    {
      "cell_type": "code",
      "execution_count": null,
      "id": "undefined-commitment",
      "metadata": {
        "id": "undefined-commitment"
      },
      "outputs": [],
      "source": [
        "!pip install jovian scikit-learn --upgrade --quiet"
      ]
    },
    {
      "cell_type": "code",
      "execution_count": null,
      "id": "stainless-macintosh",
      "metadata": {
        "id": "stainless-macintosh"
      },
      "outputs": [],
      "source": [
        "import jovian"
      ]
    },
    {
      "cell_type": "code",
      "execution_count": null,
      "id": "external-pitch",
      "metadata": {
        "scrolled": true,
        "id": "external-pitch",
        "outputId": "ee7c1d70-ff4e-4598-8939-47b99d6b23b3"
      },
      "outputs": [
        {
          "data": {
            "application/javascript": [
              "window.require && require([\"base/js/namespace\"],function(Jupyter){Jupyter.notebook.save_checkpoint()})"
            ],
            "text/plain": [
              "<IPython.core.display.Javascript object>"
            ]
          },
          "metadata": {},
          "output_type": "display_data"
        },
        {
          "name": "stdout",
          "output_type": "stream",
          "text": [
            "[jovian] Updating notebook \"aakashns/python-sklearn-assignment\" on https://jovian.ai/\u001b[0m\n",
            "[jovian] Committed successfully! https://jovian.ai/aakashns/python-sklearn-assignment\u001b[0m\n"
          ]
        },
        {
          "data": {
            "text/plain": [
              "'https://jovian.ai/aakashns/python-sklearn-assignment'"
            ]
          },
          "execution_count": 2,
          "metadata": {},
          "output_type": "execute_result"
        }
      ],
      "source": [
        "jovian.commit(project='python-sklearn-assignment', privacy='secret')"
      ]
    },
    {
      "cell_type": "markdown",
      "id": "freelance-teaching",
      "metadata": {
        "id": "freelance-teaching"
      },
      "source": [
        "Let's begin by installing the required libraries:"
      ]
    },
    {
      "cell_type": "code",
      "execution_count": null,
      "id": "exposed-southwest",
      "metadata": {
        "id": "exposed-southwest"
      },
      "outputs": [],
      "source": [
        "!pip install numpy pandas matplotlib seaborn plotly opendatasets jovian --quiet"
      ]
    },
    {
      "cell_type": "markdown",
      "id": "contrary-inside",
      "metadata": {
        "id": "contrary-inside"
      },
      "source": [
        "## Step 1 - Download and Explore the Data\n",
        "\n",
        "The dataset is available as a ZIP file at the following url:"
      ]
    },
    {
      "cell_type": "code",
      "execution_count": null,
      "id": "seasonal-senate",
      "metadata": {
        "id": "seasonal-senate"
      },
      "outputs": [],
      "source": [
        "dataset_url = 'https://github.com/JovianML/opendatasets/raw/master/data/house-prices-advanced-regression-techniques.zip'"
      ]
    },
    {
      "cell_type": "markdown",
      "id": "dried-output",
      "metadata": {
        "id": "dried-output"
      },
      "source": [
        "We'll use the `urlretrieve` function from the module [`urllib.request`](https://docs.python.org/3/library/urllib.request.html) to dowload the dataset."
      ]
    },
    {
      "cell_type": "code",
      "execution_count": null,
      "id": "protecting-pasta",
      "metadata": {
        "id": "protecting-pasta"
      },
      "outputs": [],
      "source": [
        "from urllib.request import urlretrieve"
      ]
    },
    {
      "cell_type": "code",
      "execution_count": null,
      "id": "vital-large",
      "metadata": {
        "id": "vital-large"
      },
      "outputs": [],
      "source": [
        "urlretrieve(dataset_url, 'house-prices.zip')"
      ]
    },
    {
      "cell_type": "markdown",
      "id": "ancient-cardiff",
      "metadata": {
        "id": "ancient-cardiff"
      },
      "source": [
        "The file `housing-prices.zip` has been downloaded. Let's unzip it using the [`zipfile`](https://docs.python.org/3/library/zipfile.html) module."
      ]
    },
    {
      "cell_type": "code",
      "execution_count": null,
      "id": "frequent-orange",
      "metadata": {
        "id": "frequent-orange"
      },
      "outputs": [],
      "source": [
        "from zipfile import ZipFile"
      ]
    },
    {
      "cell_type": "code",
      "execution_count": null,
      "id": "stylish-concentration",
      "metadata": {
        "id": "stylish-concentration"
      },
      "outputs": [],
      "source": [
        "with ZipFile('house-prices.zip') as f:\n",
        "    f.extractall(path='house-prices')"
      ]
    },
    {
      "cell_type": "markdown",
      "id": "assumed-auction",
      "metadata": {
        "id": "assumed-auction"
      },
      "source": [
        "The dataset is extracted to the folder `house-prices`. Let's view the contents of the folder using the [`os`](https://docs.python.org/3/library/os.html) module."
      ]
    },
    {
      "cell_type": "code",
      "execution_count": null,
      "id": "commercial-float",
      "metadata": {
        "id": "commercial-float"
      },
      "outputs": [],
      "source": [
        "import os"
      ]
    },
    {
      "cell_type": "code",
      "execution_count": null,
      "id": "international-england",
      "metadata": {
        "id": "international-england"
      },
      "outputs": [],
      "source": [
        "data_dir = 'house-prices'"
      ]
    },
    {
      "cell_type": "code",
      "execution_count": null,
      "id": "fixed-corruption",
      "metadata": {
        "id": "fixed-corruption"
      },
      "outputs": [],
      "source": [
        "os.listdir(data_dir)"
      ]
    },
    {
      "cell_type": "markdown",
      "id": "hindu-tulsa",
      "metadata": {
        "id": "hindu-tulsa"
      },
      "source": [
        "Use the \"File\" > \"Open\" menu option to browse the contents of each file. You can also check out the [dataset description](https://www.kaggle.com/c/house-prices-advanced-regression-techniques/data) on Kaggle to learn more.\n",
        "\n",
        "We'll use the data in the file `train.csv` for training our model. We can load the for processing using the [Pandas](https://pandas.pydata.org/pandas-docs/stable/user_guide/index.html) library."
      ]
    },
    {
      "cell_type": "code",
      "execution_count": null,
      "id": "brutal-peter",
      "metadata": {
        "id": "brutal-peter"
      },
      "outputs": [],
      "source": [
        "import pandas as pd\n",
        "pd.options.display.max_columns = 200\n",
        "pd.options.display.max_rows = 200"
      ]
    },
    {
      "cell_type": "code",
      "execution_count": null,
      "id": "prepared-simon",
      "metadata": {
        "id": "prepared-simon"
      },
      "outputs": [],
      "source": [
        "train_csv_path = data_dir + '/train.csv'\n",
        "train_csv_path"
      ]
    },
    {
      "cell_type": "markdown",
      "id": "insured-deployment",
      "metadata": {
        "id": "insured-deployment"
      },
      "source": [
        "> **QUESTION 1**: Load the data from the file `train.csv` into a Pandas data frame."
      ]
    },
    {
      "cell_type": "code",
      "execution_count": null,
      "id": "collected-witness",
      "metadata": {
        "id": "collected-witness"
      },
      "outputs": [],
      "source": [
        "prices_df = ???"
      ]
    },
    {
      "cell_type": "code",
      "execution_count": null,
      "id": "constitutional-concrete",
      "metadata": {
        "id": "constitutional-concrete"
      },
      "outputs": [],
      "source": [
        "prices_df"
      ]
    },
    {
      "cell_type": "markdown",
      "id": "mental-oxide",
      "metadata": {
        "id": "mental-oxide"
      },
      "source": [
        "Let's explore the columns and data types within the dataset."
      ]
    },
    {
      "cell_type": "code",
      "execution_count": null,
      "id": "particular-worth",
      "metadata": {
        "id": "particular-worth"
      },
      "outputs": [],
      "source": [
        "prices_df.info()"
      ]
    },
    {
      "cell_type": "markdown",
      "id": "renewable-tomorrow",
      "metadata": {
        "id": "renewable-tomorrow"
      },
      "source": [
        "> **QUESTION 2**: How many rows and columns does the dataset contain?"
      ]
    },
    {
      "cell_type": "code",
      "execution_count": null,
      "id": "personalized-honor",
      "metadata": {
        "id": "personalized-honor"
      },
      "outputs": [],
      "source": [
        "n_rows = ???"
      ]
    },
    {
      "cell_type": "code",
      "execution_count": null,
      "id": "compound-parish",
      "metadata": {
        "id": "compound-parish"
      },
      "outputs": [],
      "source": [
        "n_cols = ???"
      ]
    },
    {
      "cell_type": "code",
      "execution_count": null,
      "id": "instant-providence",
      "metadata": {
        "id": "instant-providence"
      },
      "outputs": [],
      "source": [
        "print('The dataset contains {} rows and {} columns.'.format(n_rows, n_cols))"
      ]
    },
    {
      "cell_type": "markdown",
      "id": "coupled-mayor",
      "metadata": {
        "id": "coupled-mayor"
      },
      "source": [
        "> **(OPTIONAL) QUESTION**: Before training the model, you may want to explore and visualize data from the various columns within the dataset, and study their relationship with the price of the house (using scatter plot and correlations). Create some graphs and summarize your insights using the empty cells below."
      ]
    },
    {
      "cell_type": "code",
      "execution_count": null,
      "id": "surface-mother",
      "metadata": {
        "id": "surface-mother"
      },
      "outputs": [],
      "source": []
    },
    {
      "cell_type": "code",
      "execution_count": null,
      "id": "reduced-sussex",
      "metadata": {
        "id": "reduced-sussex"
      },
      "outputs": [],
      "source": []
    },
    {
      "cell_type": "code",
      "execution_count": null,
      "id": "stuffed-minnesota",
      "metadata": {
        "id": "stuffed-minnesota"
      },
      "outputs": [],
      "source": []
    },
    {
      "cell_type": "markdown",
      "id": "distant-civilian",
      "metadata": {
        "id": "distant-civilian"
      },
      "source": [
        "Let's save our work before continuing."
      ]
    },
    {
      "cell_type": "code",
      "execution_count": null,
      "id": "polish-chosen",
      "metadata": {
        "id": "polish-chosen"
      },
      "outputs": [],
      "source": [
        "import jovian"
      ]
    },
    {
      "cell_type": "code",
      "execution_count": null,
      "id": "cellular-announcement",
      "metadata": {
        "id": "cellular-announcement"
      },
      "outputs": [],
      "source": [
        "jovian.commit()"
      ]
    },
    {
      "cell_type": "markdown",
      "id": "informative-ceremony",
      "metadata": {
        "id": "informative-ceremony"
      },
      "source": [
        "## Step 2 - Prepare the Dataset for Training\n",
        "\n",
        "Before we can train the model, we need to prepare the dataset. Here are the steps we'll follow:\n",
        "\n",
        "1. Identify the input and target column(s) for training the model.\n",
        "2. Identify numeric and categorical input columns.\n",
        "3. [Impute](https://scikit-learn.org/stable/modules/impute.html) (fill) missing values in numeric columns\n",
        "4. [Scale](https://scikit-learn.org/stable/modules/preprocessing.html#scaling-features-to-a-range) values in numeric columns to a $(0,1)$ range.\n",
        "5. [Encode](https://scikit-learn.org/stable/modules/preprocessing.html#encoding-categorical-features) categorical data into one-hot vectors.\n",
        "6. Split the dataset into training and validation sets.\n"
      ]
    },
    {
      "cell_type": "markdown",
      "id": "amazing-organ",
      "metadata": {
        "id": "amazing-organ"
      },
      "source": [
        "### Identify Inputs and Targets\n",
        "\n",
        "While the dataset contains 81 columns, not all of them are useful for modeling. Note the following:\n",
        "\n",
        "- The first column `Id` is a unique ID for each house and isn't useful for training the model.\n",
        "- The last column `SalePrice` contains the value we need to predict i.e. it's the target column.\n",
        "- Data from all the other columns (except the first and the last column) can be used as inputs to the model.\n",
        ""
      ]
    },
    {
      "cell_type": "code",
      "execution_count": null,
      "id": "north-thanksgiving",
      "metadata": {
        "id": "north-thanksgiving"
      },
      "outputs": [],
      "source": [
        "prices_df"
      ]
    },
    {
      "cell_type": "markdown",
      "id": "fatty-regression",
      "metadata": {
        "id": "fatty-regression"
      },
      "source": [
        "> **QUESTION 3**: Create a list `input_cols` of column names containing data that can be used as input to train the model, and identify the target column as the variable `target_col`."
      ]
    },
    {
      "cell_type": "code",
      "execution_count": null,
      "id": "august-acquisition",
      "metadata": {
        "id": "august-acquisition"
      },
      "outputs": [],
      "source": [
        "# Identify the input columns (a list of column names)\n",
        "input_cols = [???]"
      ]
    },
    {
      "cell_type": "code",
      "execution_count": null,
      "id": "established-actor",
      "metadata": {
        "id": "established-actor"
      },
      "outputs": [],
      "source": [
        "# Identify the name of the target column (a single string, not a list)\n",
        "target_col = ???"
      ]
    },
    {
      "cell_type": "code",
      "execution_count": null,
      "id": "enhanced-campaign",
      "metadata": {
        "id": "enhanced-campaign"
      },
      "outputs": [],
      "source": [
        "print(list(input_cols))"
      ]
    },
    {
      "cell_type": "code",
      "execution_count": null,
      "id": "attractive-variety",
      "metadata": {
        "id": "attractive-variety"
      },
      "outputs": [],
      "source": [
        "len(input_cols)"
      ]
    },
    {
      "cell_type": "code",
      "execution_count": null,
      "id": "stock-sunset",
      "metadata": {
        "id": "stock-sunset"
      },
      "outputs": [],
      "source": [
        "print(target_col)"
      ]
    },
    {
      "cell_type": "markdown",
      "id": "loving-border",
      "metadata": {
        "id": "loving-border"
      },
      "source": [
        "Make sure that the `Id` and `SalePrice` columns are not included in `input_cols`.\n",
        "\n",
        "Now that we've identified the input and target columns, we can separate input & target data."
      ]
    },
    {
      "cell_type": "code",
      "execution_count": null,
      "id": "labeled-dining",
      "metadata": {
        "id": "labeled-dining"
      },
      "outputs": [],
      "source": [
        "inputs_df = prices_df[input_cols].copy()"
      ]
    },
    {
      "cell_type": "code",
      "execution_count": null,
      "id": "divine-madagascar",
      "metadata": {
        "id": "divine-madagascar"
      },
      "outputs": [],
      "source": [
        "targets = prices_df[target_col]"
      ]
    },
    {
      "cell_type": "code",
      "execution_count": null,
      "id": "interpreted-cable",
      "metadata": {
        "id": "interpreted-cable"
      },
      "outputs": [],
      "source": [
        "inputs_df"
      ]
    },
    {
      "cell_type": "code",
      "execution_count": null,
      "id": "coordinated-islam",
      "metadata": {
        "id": "coordinated-islam"
      },
      "outputs": [],
      "source": [
        "targets"
      ]
    },
    {
      "cell_type": "markdown",
      "id": "following-distributor",
      "metadata": {
        "id": "following-distributor"
      },
      "source": [
        "Let's save our work before continuing."
      ]
    },
    {
      "cell_type": "code",
      "execution_count": null,
      "id": "functional-conclusion",
      "metadata": {
        "scrolled": true,
        "id": "functional-conclusion"
      },
      "outputs": [],
      "source": [
        "jovian.commit()"
      ]
    },
    {
      "cell_type": "markdown",
      "id": "unlimited-adjustment",
      "metadata": {
        "id": "unlimited-adjustment"
      },
      "source": [
        "### Identify Numeric and Categorical Data\n",
        "\n",
        "The next step in data preparation is to identify numeric and categorical columns. We can do this by looking at the data type of each column."
      ]
    },
    {
      "cell_type": "code",
      "execution_count": null,
      "id": "level-emergency",
      "metadata": {
        "id": "level-emergency"
      },
      "outputs": [],
      "source": [
        "prices_df.info()"
      ]
    },
    {
      "cell_type": "markdown",
      "id": "received-afternoon",
      "metadata": {
        "id": "received-afternoon"
      },
      "source": [
        "> **QUESTION 4**: Crate two lists `numeric_cols` and `categorical_cols` containing names of numeric and categorical input columns within the dataframe respectively. Numeric columns have data types `int64` and `float64`, whereas categorical columns have the data type `object`.\n",
        ">\n",
        "> *Hint*: See this [StackOverflow question](https://stackoverflow.com/questions/25039626/how-do-i-find-numeric-columns-in-pandas)."
      ]
    },
    {
      "cell_type": "code",
      "execution_count": null,
      "id": "thirty-symphony",
      "metadata": {
        "id": "thirty-symphony"
      },
      "outputs": [],
      "source": [
        "import numpy as np"
      ]
    },
    {
      "cell_type": "code",
      "execution_count": null,
      "id": "unknown-hunger",
      "metadata": {
        "id": "unknown-hunger"
      },
      "outputs": [],
      "source": [
        "numeric_cols = inputs_df.select_dtypes(include=['int64', 'float64']).columns.tolist()"
      ]
    },
    {
      "cell_type": "code",
      "execution_count": null,
      "id": "adjusted-token",
      "metadata": {
        "id": "adjusted-token"
      },
      "outputs": [],
      "source": [
        "categorical_cols = ???"
      ]
    },
    {
      "cell_type": "code",
      "execution_count": null,
      "id": "compact-spectrum",
      "metadata": {
        "id": "compact-spectrum"
      },
      "outputs": [],
      "source": [
        "print(list(numeric_cols))"
      ]
    },
    {
      "cell_type": "code",
      "execution_count": null,
      "id": "sized-minnesota",
      "metadata": {
        "id": "sized-minnesota"
      },
      "outputs": [],
      "source": [
        "print(list(categorical_cols))"
      ]
    },
    {
      "cell_type": "markdown",
      "id": "immediate-small",
      "metadata": {
        "id": "immediate-small"
      },
      "source": [
        "Let's save our work before continuing."
      ]
    },
    {
      "cell_type": "code",
      "execution_count": null,
      "id": "declared-acquisition",
      "metadata": {
        "scrolled": true,
        "id": "declared-acquisition"
      },
      "outputs": [],
      "source": [
        "jovian.commit()"
      ]
    },
    {
      "cell_type": "markdown",
      "id": "excellent-organ",
      "metadata": {
        "id": "excellent-organ"
      },
      "source": [
        "### Impute Numerical Data\n",
        "\n",
        "Some of the numeric columns in our dataset contain missing values (`nan`)."
      ]
    },
    {
      "cell_type": "code",
      "execution_count": null,
      "id": "animal-spiritual",
      "metadata": {
        "id": "animal-spiritual"
      },
      "outputs": [],
      "source": [
        "missing_counts = inputs_df[numeric_cols].isna().sum().sort_values(ascending=False)\n",
        "missing_counts[missing_counts > 0]"
      ]
    },
    {
      "cell_type": "markdown",
      "id": "separated-personality",
      "metadata": {
        "id": "separated-personality"
      },
      "source": [
        "Machine learning models can't work with missing data. The process of filling missing values is called [imputation](https://scikit-learn.org/stable/modules/impute.html).\n",
        "\n",
        "<img src=\"https://i.imgur.com/W7cfyOp.png\" width=\"480\">\n",
        "\n",
        "There are several techniques for imputation, but we'll use the most basic one: replacing missing values with the average value in the column using the `SimpleImputer` class from `sklearn.impute`.\n"
      ]
    },
    {
      "cell_type": "code",
      "execution_count": null,
      "id": "altered-computer",
      "metadata": {
        "id": "altered-computer"
      },
      "outputs": [],
      "source": [
        "from sklearn.impute import SimpleImputer"
      ]
    },
    {
      "cell_type": "markdown",
      "id": "tutorial-animal",
      "metadata": {
        "id": "tutorial-animal"
      },
      "source": [
        "> **QUESTION 5**: Impute (fill) missing values in the numeric columns of `inputs_df` using a `SimpleImputer`.\n",
        ">\n",
        "> *Hint*: See [this notebook](https://jovian.ai/aakashns/python-sklearn-logistic-regression/v/66#C88)."
      ]
    },
    {
      "cell_type": "code",
      "execution_count": null,
      "id": "retired-marijuana",
      "metadata": {
        "id": "retired-marijuana"
      },
      "outputs": [],
      "source": [
        "# 1. Create the imputer\n",
        "imputer = ???"
      ]
    },
    {
      "cell_type": "code",
      "execution_count": null,
      "id": "decreased-madonna",
      "metadata": {
        "id": "decreased-madonna"
      },
      "outputs": [],
      "source": [
        "# 2. Fit the imputer to the numeric colums\n",
        "???"
      ]
    },
    {
      "cell_type": "code",
      "execution_count": null,
      "id": "direct-management",
      "metadata": {
        "id": "direct-management"
      },
      "outputs": [],
      "source": [
        "# 3. Transform and replace the numeric columns\n",
        "inputs_df[numeric_cols] = ???"
      ]
    },
    {
      "cell_type": "markdown",
      "id": "difficult-graduate",
      "metadata": {
        "id": "difficult-graduate"
      },
      "source": [
        "After imputation, none of the numeric columns should contain any missing values."
      ]
    },
    {
      "cell_type": "code",
      "execution_count": null,
      "id": "trained-company",
      "metadata": {
        "id": "trained-company"
      },
      "outputs": [],
      "source": [
        "missing_counts = inputs_df[numeric_cols].isna().sum().sort_values(ascending=False)\n",
        "missing_counts[missing_counts > 0] # should be an empty list"
      ]
    },
    {
      "cell_type": "markdown",
      "id": "supported-summer",
      "metadata": {
        "id": "supported-summer"
      },
      "source": [
        "Let's save our work before continuing."
      ]
    },
    {
      "cell_type": "code",
      "execution_count": null,
      "id": "sublime-japanese",
      "metadata": {
        "scrolled": true,
        "id": "sublime-japanese"
      },
      "outputs": [],
      "source": [
        "jovian.commit()"
      ]
    },
    {
      "cell_type": "markdown",
      "id": "viral-brand",
      "metadata": {
        "id": "viral-brand"
      },
      "source": [
        "### Scale Numerical Values\n",
        "\n",
        "The numeric columns in our dataset have varying ranges."
      ]
    },
    {
      "cell_type": "code",
      "execution_count": null,
      "id": "detected-caribbean",
      "metadata": {
        "id": "detected-caribbean"
      },
      "outputs": [],
      "source": [
        "inputs_df[numeric_cols].describe().loc[['min', 'max']]"
      ]
    },
    {
      "cell_type": "markdown",
      "id": "short-nudist",
      "metadata": {
        "id": "short-nudist"
      },
      "source": [
        "A good practice is to [scale numeric features](https://scikit-learn.org/stable/modules/preprocessing.html#scaling-features-to-a-range) to a small range of values e.g. $(0,1)$. Scaling numeric features ensures that no particular feature has a disproportionate impact on the model's loss. Optimization algorithms also work better in practice with smaller numbers.\n"
      ]
    },
    {
      "cell_type": "markdown",
      "id": "express-sector",
      "metadata": {
        "id": "express-sector"
      },
      "source": [
        "> **QUESTION 6**: Scale numeric values to the $(0, 1)$ range using `MinMaxScaler` from `sklearn.preprocessing`.\n",
        ">\n",
        "> *Hint*: See [this notebook](https://jovian.ai/aakashns/python-sklearn-logistic-regression/v/66#C104)."
      ]
    },
    {
      "cell_type": "code",
      "execution_count": null,
      "id": "induced-christian",
      "metadata": {
        "id": "induced-christian"
      },
      "outputs": [],
      "source": [
        "from sklearn.preprocessing import MinMaxScaler"
      ]
    },
    {
      "cell_type": "code",
      "execution_count": null,
      "id": "certified-memphis",
      "metadata": {
        "id": "certified-memphis"
      },
      "outputs": [],
      "source": [
        "# Create the scaler\n",
        "scaler = ???"
      ]
    },
    {
      "cell_type": "code",
      "execution_count": null,
      "id": "brown-barrier",
      "metadata": {
        "id": "brown-barrier"
      },
      "outputs": [],
      "source": [
        "# Fit the scaler to the numeric columns\n",
        "???"
      ]
    },
    {
      "cell_type": "code",
      "execution_count": null,
      "id": "educational-learning",
      "metadata": {
        "id": "educational-learning"
      },
      "outputs": [],
      "source": [
        "# Transform and replace the numeric columns\n",
        "inputs_df[numeric_cols] = ???"
      ]
    },
    {
      "cell_type": "markdown",
      "id": "insured-iraqi",
      "metadata": {
        "id": "insured-iraqi"
      },
      "source": [
        "After scaling, the ranges of all numeric columns should be $(0, 1)$."
      ]
    },
    {
      "cell_type": "code",
      "execution_count": null,
      "id": "sunset-payroll",
      "metadata": {
        "id": "sunset-payroll"
      },
      "outputs": [],
      "source": [
        "inputs_df[numeric_cols].describe().loc[['min', 'max']]"
      ]
    },
    {
      "cell_type": "markdown",
      "id": "successful-congress",
      "metadata": {
        "id": "successful-congress"
      },
      "source": [
        "Let's save our work before continuing."
      ]
    },
    {
      "cell_type": "code",
      "execution_count": null,
      "id": "round-screening",
      "metadata": {
        "scrolled": true,
        "id": "round-screening"
      },
      "outputs": [],
      "source": [
        "jovian.commit()"
      ]
    },
    {
      "cell_type": "markdown",
      "id": "unique-result",
      "metadata": {
        "id": "unique-result"
      },
      "source": [
        "### Encode Categorical Columns\n",
        "\n",
        "Our dataset contains several categorical columns, each with a different number of categories."
      ]
    },
    {
      "cell_type": "code",
      "execution_count": null,
      "id": "outstanding-violence",
      "metadata": {
        "id": "outstanding-violence"
      },
      "outputs": [],
      "source": [
        "inputs_df[categorical_cols].nunique().sort_values(ascending=False)"
      ]
    },
    {
      "cell_type": "markdown",
      "id": "closed-genesis",
      "metadata": {
        "id": "closed-genesis"
      },
      "source": [
        "\n",
        "\n",
        "Since machine learning models can only be trained with numeric data, we need to convert categorical data to numbers. A common technique is to use one-hot encoding for categorical columns.\n",
        "\n",
        "<img src=\"https://i.imgur.com/n8GuiOO.png\" width=\"640\">\n",
        "\n",
        "One hot encoding involves adding a new binary (0/1) column for each unique category of a categorical column."
      ]
    },
    {
      "cell_type": "markdown",
      "id": "coastal-italic",
      "metadata": {
        "id": "coastal-italic"
      },
      "source": [
        "> **QUESTION 7**: Encode categorical columns in the dataset as one-hot vectors using `OneHotEncoder` from `sklearn.preprocessing`. Add a new binary (0/1) column for each category\n",
        ">\n",
        "> *Hint*: See [this notebook](https://jovian.ai/aakashns/python-sklearn-logistic-regression/v/66#C122)."
      ]
    },
    {
      "cell_type": "code",
      "execution_count": null,
      "id": "raised-stockholm",
      "metadata": {
        "id": "raised-stockholm"
      },
      "outputs": [],
      "source": [
        "from sklearn.preprocessing import OneHotEncoder"
      ]
    },
    {
      "cell_type": "code",
      "execution_count": null,
      "id": "senior-subscriber",
      "metadata": {
        "id": "senior-subscriber"
      },
      "outputs": [],
      "source": [
        "# 1. Create the encoder\n",
        "encoder = OneHotEncoder(sparse=False, handle_unknown='ignore')"
      ]
    },
    {
      "cell_type": "code",
      "execution_count": null,
      "id": "wrapped-stomach",
      "metadata": {
        "id": "wrapped-stomach"
      },
      "outputs": [],
      "source": [
        "# 2. Fit the encoder to the categorical colums\n",
        "???"
      ]
    },
    {
      "cell_type": "code",
      "execution_count": null,
      "id": "interested-manor",
      "metadata": {
        "id": "interested-manor"
      },
      "outputs": [],
      "source": [
        "# 3. Generate column names for each category\n",
        "encoded_cols = list(encoder.get_feature_names(categorical_cols))\n",
        "len(encoded_cols)"
      ]
    },
    {
      "cell_type": "code",
      "execution_count": null,
      "id": "liberal-network",
      "metadata": {
        "id": "liberal-network"
      },
      "outputs": [],
      "source": [
        "# 4. Transform and add new one-hot category columns\n",
        "inputs_df[encoded_cols] = ???"
      ]
    },
    {
      "cell_type": "markdown",
      "id": "young-cigarette",
      "metadata": {
        "id": "young-cigarette"
      },
      "source": [
        "The new one-hot category columns should now be added to `inputs_df`."
      ]
    },
    {
      "cell_type": "code",
      "execution_count": null,
      "id": "eastern-review",
      "metadata": {
        "id": "eastern-review"
      },
      "outputs": [],
      "source": [
        "inputs_df"
      ]
    },
    {
      "cell_type": "markdown",
      "id": "heavy-geology",
      "metadata": {
        "id": "heavy-geology"
      },
      "source": [
        "Let's save our work before continuing."
      ]
    },
    {
      "cell_type": "code",
      "execution_count": null,
      "id": "instructional-outreach",
      "metadata": {
        "scrolled": true,
        "id": "instructional-outreach"
      },
      "outputs": [],
      "source": [
        "jovian.commit()"
      ]
    },
    {
      "cell_type": "markdown",
      "id": "improving-finnish",
      "metadata": {
        "id": "improving-finnish"
      },
      "source": [
        "### Training and Validation Set\n",
        "\n",
        "Finally, let's split the dataset into a training and validation set. We'll use a randomly select 25% subset of the data for validation. Also, we'll use just the numeric and encoded columns, since the inputs to our model must be numbers."
      ]
    },
    {
      "cell_type": "code",
      "execution_count": null,
      "id": "efficient-diabetes",
      "metadata": {
        "id": "efficient-diabetes"
      },
      "outputs": [],
      "source": [
        "from sklearn.model_selection import train_test_split"
      ]
    },
    {
      "cell_type": "code",
      "execution_count": null,
      "id": "looking-alliance",
      "metadata": {
        "id": "looking-alliance"
      },
      "outputs": [],
      "source": [
        "train_inputs, val_inputs, train_targets, val_targets = train_test_split(inputs_df[numeric_cols + encoded_cols],\n",
        "                                                                        targets,\n",
        "                                                                        test_size=0.25,\n",
        "                                                                        random_state=42)"
      ]
    },
    {
      "cell_type": "code",
      "execution_count": null,
      "id": "frozen-charles",
      "metadata": {
        "id": "frozen-charles"
      },
      "outputs": [],
      "source": [
        "train_inputs"
      ]
    },
    {
      "cell_type": "code",
      "execution_count": null,
      "id": "adjacent-firmware",
      "metadata": {
        "id": "adjacent-firmware"
      },
      "outputs": [],
      "source": [
        "train_targets"
      ]
    },
    {
      "cell_type": "code",
      "execution_count": null,
      "id": "clean-holder",
      "metadata": {
        "id": "clean-holder"
      },
      "outputs": [],
      "source": [
        "val_inputs"
      ]
    },
    {
      "cell_type": "code",
      "execution_count": null,
      "id": "attended-wireless",
      "metadata": {
        "id": "attended-wireless"
      },
      "outputs": [],
      "source": [
        "val_targets"
      ]
    },
    {
      "cell_type": "markdown",
      "id": "blind-prior",
      "metadata": {
        "id": "blind-prior"
      },
      "source": [
        "Let's save our work before continuing."
      ]
    },
    {
      "cell_type": "code",
      "execution_count": null,
      "id": "patent-occasion",
      "metadata": {
        "id": "patent-occasion"
      },
      "outputs": [],
      "source": [
        "jovian.commit()"
      ]
    },
    {
      "cell_type": "markdown",
      "id": "sublime-factor",
      "metadata": {
        "id": "sublime-factor"
      },
      "source": [
        "## Step 3 - Train a Linear Regression Model\n",
        "\n",
        "We're now ready to train the model. Linear regression is a commonly used technique for solving [regression problems](https://jovian.ai/aakashns/python-sklearn-logistic-regression/v/66#C6). In a linear regression model, the target is modeled as a linear combination (or weighted sum) of input features. The predictions from the model are evaluated using a loss function like the Root Mean Squared Error (RMSE).\n",
        "\n",
        "\n",
        "Here's a visual summary of how a linear regression model is structured:\n",
        "\n",
        "<img src=\"https://i.imgur.com/iTM2s5k.png\" width=\"480\">\n",
        "\n",
        "However, linear regression doesn't generalize very well when we have a large number of input columns with co-linearity i.e. when the values one column are highly correlated with values in other column(s). This is because it tries to fit the training data perfectly.\n",
        "\n",
        "Instead, we'll use Ridge Regression, a variant of linear regression that uses a technique called L2 regularization to introduce another loss term that forces the model to generalize better. Learn more about ridge regression here: https://www.youtube.com/watch?v=Q81RR3yKn30"
      ]
    },
    {
      "cell_type": "markdown",
      "id": "flush-combine",
      "metadata": {
        "id": "flush-combine"
      },
      "source": [
        "> **QUESTION 8**: Create and train a linear regression model using the `Ridge` class from `sklearn.linear_model`."
      ]
    },
    {
      "cell_type": "code",
      "execution_count": null,
      "id": "revolutionary-eligibility",
      "metadata": {
        "id": "revolutionary-eligibility"
      },
      "outputs": [],
      "source": [
        "from sklearn.linear_model import Ridge"
      ]
    },
    {
      "cell_type": "code",
      "execution_count": null,
      "id": "unlikely-flavor",
      "metadata": {
        "id": "unlikely-flavor"
      },
      "outputs": [],
      "source": [
        "# Create the model\n",
        "model = ???"
      ]
    },
    {
      "cell_type": "code",
      "execution_count": null,
      "id": "documented-laundry",
      "metadata": {
        "id": "documented-laundry"
      },
      "outputs": [],
      "source": [
        "# Fit the model using inputs and targets\n",
        "???"
      ]
    },
    {
      "cell_type": "markdown",
      "id": "finished-attribute",
      "metadata": {
        "id": "finished-attribute"
      },
      "source": [
        "`model.fit` uses the following strategy for training the model (source):\n",
        "\n",
        "1. We initialize a model with random parameters (weights & biases).\n",
        "2. We pass some inputs into the model to obtain predictions.\n",
        "3. We compare the model's predictions with the actual targets using the loss function.\n",
        "4. We use an optimization technique (like least squares, gradient descent etc.) to reduce the loss by adjusting the weights & biases of the model\n",
        "5. We repeat steps 1 to 4 till the predictions from the model are good enough.\n",
        "\n",
        "<img src=\"https://www.deepnetts.com/blog/wp-content/uploads/2019/02/SupervisedLearning.png\" width=\"480\">"
      ]
    },
    {
      "cell_type": "markdown",
      "id": "forward-means",
      "metadata": {
        "id": "forward-means"
      },
      "source": [
        "Let's save our work before continuing."
      ]
    },
    {
      "cell_type": "code",
      "execution_count": null,
      "id": "disciplinary-airport",
      "metadata": {
        "id": "disciplinary-airport"
      },
      "outputs": [],
      "source": [
        "jovian.commit()"
      ]
    },
    {
      "cell_type": "markdown",
      "id": "rapid-somewhere",
      "metadata": {
        "id": "rapid-somewhere"
      },
      "source": [
        "## Step 4 - Make Predictions and Evaluate Your Model\n",
        "\n",
        "The model is now trained, and we can use it to generate predictions for the training and validation inputs. We can evaluate the model's performance using the RMSE (root mean squared error) loss function."
      ]
    },
    {
      "cell_type": "markdown",
      "id": "incredible-magazine",
      "metadata": {
        "id": "incredible-magazine"
      },
      "source": [
        "> **QUESTION 9**: Generate predictions and compute the RMSE loss for the training and validation sets.\n",
        ">\n",
        "> *Hint*: Use the `mean_squared_error` with the argument `squared=False` to compute RMSE loss."
      ]
    },
    {
      "cell_type": "code",
      "execution_count": null,
      "id": "instant-welding",
      "metadata": {
        "id": "instant-welding"
      },
      "outputs": [],
      "source": [
        "from sklearn.metrics import mean_squared_error"
      ]
    },
    {
      "cell_type": "code",
      "execution_count": null,
      "id": "retired-algeria",
      "metadata": {
        "id": "retired-algeria"
      },
      "outputs": [],
      "source": [
        "train_preds = ???"
      ]
    },
    {
      "cell_type": "code",
      "execution_count": null,
      "id": "moderate-lindsay",
      "metadata": {
        "id": "moderate-lindsay"
      },
      "outputs": [],
      "source": [
        "train_preds"
      ]
    },
    {
      "cell_type": "code",
      "execution_count": null,
      "id": "ranging-blade",
      "metadata": {
        "id": "ranging-blade"
      },
      "outputs": [],
      "source": [
        "train_rmse = ???"
      ]
    },
    {
      "cell_type": "code",
      "execution_count": null,
      "id": "focal-purpose",
      "metadata": {
        "id": "focal-purpose"
      },
      "outputs": [],
      "source": [
        "print('The RMSE loss for the training set is $ {}.'.format(train_rmse))"
      ]
    },
    {
      "cell_type": "code",
      "execution_count": null,
      "id": "cultural-consortium",
      "metadata": {
        "id": "cultural-consortium"
      },
      "outputs": [],
      "source": [
        "val_preds = ???"
      ]
    },
    {
      "cell_type": "code",
      "execution_count": null,
      "id": "printable-shooting",
      "metadata": {
        "id": "printable-shooting"
      },
      "outputs": [],
      "source": [
        "val_preds"
      ]
    },
    {
      "cell_type": "code",
      "execution_count": null,
      "id": "alternate-defendant",
      "metadata": {
        "id": "alternate-defendant"
      },
      "outputs": [],
      "source": [
        "val_rmse = ???"
      ]
    },
    {
      "cell_type": "code",
      "execution_count": null,
      "id": "hidden-literacy",
      "metadata": {
        "id": "hidden-literacy"
      },
      "outputs": [],
      "source": [
        "print('The RMSE loss for the validation set is $ {}.'.format(val_rmse))"
      ]
    },
    {
      "cell_type": "markdown",
      "id": "russian-beginning",
      "metadata": {
        "id": "russian-beginning"
      },
      "source": [
        "### Feature Importance\n",
        "\n",
        "Let's look at the weights assigned to different columns, to figure out which columns in the dataset are the most important."
      ]
    },
    {
      "cell_type": "markdown",
      "id": "mighty-complaint",
      "metadata": {
        "id": "mighty-complaint"
      },
      "source": [
        "> **QUESTION 10**: Identify the weights (or coefficients) assigned to for different features by the model.\n",
        ">\n",
        "> *Hint:* Read [the docs](https://scikit-learn.org/stable/modules/generated/sklearn.linear_model.LinearRegression.html)."
      ]
    },
    {
      "cell_type": "code",
      "execution_count": null,
      "id": "contrary-enforcement",
      "metadata": {
        "id": "contrary-enforcement"
      },
      "outputs": [],
      "source": [
        "weights = ???"
      ]
    },
    {
      "cell_type": "markdown",
      "id": "raised-tamil",
      "metadata": {
        "id": "raised-tamil"
      },
      "source": [
        "Let's create a dataframe to view the weight assigned to each column."
      ]
    },
    {
      "cell_type": "code",
      "execution_count": null,
      "id": "chief-subdivision",
      "metadata": {
        "id": "chief-subdivision"
      },
      "outputs": [],
      "source": [
        "weights_df = pd.DataFrame({\n",
        "    'columns': train_inputs.columns,\n",
        "    'weight': weights\n",
        "}).sort_values('weight', ascending=False)"
      ]
    },
    {
      "cell_type": "code",
      "execution_count": null,
      "id": "indirect-desire",
      "metadata": {
        "id": "indirect-desire"
      },
      "outputs": [],
      "source": [
        "weights_df"
      ]
    },
    {
      "cell_type": "markdown",
      "id": "persistent-collection",
      "metadata": {
        "id": "persistent-collection"
      },
      "source": [
        "Can you tell which columns have the greatest impact on the price of the house?"
      ]
    },
    {
      "cell_type": "markdown",
      "id": "destroyed-walter",
      "metadata": {
        "id": "destroyed-walter"
      },
      "source": [
        "### Making Predictions\n",
        "\n",
        "The model can be used to make predictions on new inputs using the following helper function:"
      ]
    },
    {
      "cell_type": "code",
      "execution_count": null,
      "id": "pressing-ridge",
      "metadata": {
        "id": "pressing-ridge"
      },
      "outputs": [],
      "source": [
        "def predict_input(single_input):\n",
        "    input_df = pd.DataFrame([single_input])\n",
        "    input_df[numeric_cols] = imputer.transform(input_df[numeric_cols])\n",
        "    input_df[numeric_cols] = scaler.transform(input_df[numeric_cols])\n",
        "    input_df[encoded_cols] = encoder.transform(input_df[categorical_cols].values)\n",
        "    X_input = input_df[numeric_cols + encoded_cols]\n",
        "    return model.predict(X_input)[0]"
      ]
    },
    {
      "cell_type": "code",
      "execution_count": null,
      "id": "chronic-chemistry",
      "metadata": {
        "id": "chronic-chemistry"
      },
      "outputs": [],
      "source": [
        "sample_input = { 'MSSubClass': 20, 'MSZoning': 'RL', 'LotFrontage': 77.0, 'LotArea': 9320,\n",
        " 'Street': 'Pave', 'Alley': None, 'LotShape': 'IR1', 'LandContour': 'Lvl', 'Utilities': 'AllPub',\n",
        " 'LotConfig': 'Inside', 'LandSlope': 'Gtl', 'Neighborhood': 'NAmes', 'Condition1': 'Norm', 'Condition2': 'Norm',\n",
        " 'BldgType': '1Fam', 'HouseStyle': '1Story', 'OverallQual': 4, 'OverallCond': 5, 'YearBuilt': 1959,\n",
        " 'YearRemodAdd': 1959, 'RoofStyle': 'Gable', 'RoofMatl': 'CompShg', 'Exterior1st': 'Plywood',\n",
        " 'Exterior2nd': 'Plywood', 'MasVnrType': 'None','MasVnrArea': 0.0,'ExterQual': 'TA','ExterCond': 'TA',\n",
        " 'Foundation': 'CBlock','BsmtQual': 'TA','BsmtCond': 'TA','BsmtExposure': 'No','BsmtFinType1': 'ALQ',\n",
        " 'BsmtFinSF1': 569,'BsmtFinType2': 'Unf','BsmtFinSF2': 0,'BsmtUnfSF': 381,\n",
        " 'TotalBsmtSF': 950,'Heating': 'GasA','HeatingQC': 'Fa','CentralAir': 'Y','Electrical': 'SBrkr', '1stFlrSF': 1225,\n",
        " '2ndFlrSF': 0, 'LowQualFinSF': 0, 'GrLivArea': 1225, 'BsmtFullBath': 1, 'BsmtHalfBath': 0, 'FullBath': 1,\n",
        " 'HalfBath': 1, 'BedroomAbvGr': 3, 'KitchenAbvGr': 1,'KitchenQual': 'TA','TotRmsAbvGrd': 6,'Functional': 'Typ',\n",
        " 'Fireplaces': 0,'FireplaceQu': np.nan,'GarageType': np.nan,'GarageYrBlt': np.nan,'GarageFinish': np.nan,'GarageCars': 0,\n",
        " 'GarageArea': 0,'GarageQual': np.nan,'GarageCond': np.nan,'PavedDrive': 'Y', 'WoodDeckSF': 352, 'OpenPorchSF': 0,\n",
        " 'EnclosedPorch': 0,'3SsnPorch': 0, 'ScreenPorch': 0, 'PoolArea': 0, 'PoolQC': np.nan, 'Fence': np.nan, 'MiscFeature': 'Shed',\n",
        " 'MiscVal': 400, 'MoSold': 1, 'YrSold': 2010, 'SaleType': 'WD', 'SaleCondition': 'Normal'}"
      ]
    },
    {
      "cell_type": "code",
      "execution_count": null,
      "id": "advanced-positive",
      "metadata": {
        "id": "advanced-positive"
      },
      "outputs": [],
      "source": [
        "predicted_price = predict_input(sample_input)"
      ]
    },
    {
      "cell_type": "code",
      "execution_count": null,
      "id": "stock-designation",
      "metadata": {
        "id": "stock-designation"
      },
      "outputs": [],
      "source": [
        "print('The predicted sale price of the house is ${}'.format(predicted_price))"
      ]
    },
    {
      "cell_type": "markdown",
      "id": "empty-drive",
      "metadata": {
        "id": "empty-drive"
      },
      "source": [
        "Change the values in `sample_input` above and observe the effects on the predicted price."
      ]
    },
    {
      "cell_type": "markdown",
      "id": "geological-mineral",
      "metadata": {
        "id": "geological-mineral"
      },
      "source": [
        "### Saving the model\n",
        "\n",
        "Let's save the model (along with other useful objects) to disk, so that we use it for making predictions without retraining."
      ]
    },
    {
      "cell_type": "code",
      "execution_count": null,
      "id": "steady-reynolds",
      "metadata": {
        "id": "steady-reynolds"
      },
      "outputs": [],
      "source": [
        "import joblib"
      ]
    },
    {
      "cell_type": "code",
      "execution_count": null,
      "id": "bibliographic-hardware",
      "metadata": {
        "id": "bibliographic-hardware"
      },
      "outputs": [],
      "source": [
        "house_price_predictor = {\n",
        "    'model': model,\n",
        "    'imputer': imputer,\n",
        "    'scaler': scaler,\n",
        "    'encoder': encoder,\n",
        "    'input_cols': input_cols,\n",
        "    'target_col': target_col,\n",
        "    'numeric_cols': numeric_cols,\n",
        "    'categorical_cols': categorical_cols,\n",
        "    'encoded_cols': encoded_cols\n",
        "}"
      ]
    },
    {
      "cell_type": "code",
      "execution_count": null,
      "id": "african-corrections",
      "metadata": {
        "id": "african-corrections"
      },
      "outputs": [],
      "source": [
        "joblib.dump(house_price_predictor, 'house_price_predictor.joblib')"
      ]
    },
    {
      "cell_type": "markdown",
      "id": "structured-english",
      "metadata": {
        "id": "structured-english"
      },
      "source": [
        "Congratulations on training and evaluating your first machine learning model using `scikit-learn`! Let's save our work before continuing. We'll include the saved model as an output."
      ]
    },
    {
      "cell_type": "code",
      "execution_count": null,
      "id": "sunset-acrobat",
      "metadata": {
        "id": "sunset-acrobat"
      },
      "outputs": [],
      "source": [
        "jovian.commit(outputs=['house_price_predictor.joblib'])"
      ]
    },
    {
      "cell_type": "markdown",
      "id": "aac6d745",
      "metadata": {
        "id": "aac6d745"
      },
      "source": [
        "## LeetCode Problems"
      ]
    },
    {
      "cell_type": "markdown",
      "id": "9e0f7ae4",
      "metadata": {
        "id": "9e0f7ae4"
      },
      "source": [
        "### [Problem 796](https://leetcode.com/problems/rotate-string/) - Rotate String\n",
        "\n",
        "Given two strings `s` and `goal`, return `true` *if and only if* `s` *can become* `goal` *after some number of <b>shifts</b> on* `s`.\n",
        "\n",
        "A **shift** on `s` consists of moving the leftmost character of `s` to the rightmost position."
      ]
    },
    {
      "cell_type": "markdown",
      "id": "b217c078",
      "metadata": {
        "id": "b217c078"
      },
      "source": [
        "For example, if `s = \"abcde\"`, then it will be `\"bcdea\"` after one shift.`\n",
        "\n",
        "\n",
        "Example 1:\n",
        "```\n",
        "Input: s = \"abcde\", goal = \"cdeab\"\n",
        "Output: true\n",
        "```\n",
        "Example 2:\n",
        "```\n",
        "Input: s = \"abcde\", goal = \"abced\"\n",
        "Output: false\n",
        "```\n",
        "\n",
        "Constraints:\n",
        "```\n",
        "1 <= s.length, goal.length <= 100\n",
        "s and goal consist of lowercase English letters.\n",
        "```"
      ]
    },
    {
      "cell_type": "code",
      "execution_count": null,
      "id": "1ce08ad0",
      "metadata": {
        "id": "1ce08ad0"
      },
      "outputs": [],
      "source": [
        "def rotateString(s, goal):\n",
        "    ???"
      ]
    },
    {
      "cell_type": "code",
      "execution_count": null,
      "id": "921cb05e",
      "metadata": {
        "id": "921cb05e"
      },
      "outputs": [],
      "source": [
        "# This should return \"True\"\n",
        "rotateString(\"abcde\",\"cdeab\") == True"
      ]
    },
    {
      "cell_type": "code",
      "execution_count": null,
      "id": "2134808b",
      "metadata": {
        "id": "2134808b"
      },
      "outputs": [],
      "source": [
        "# This should return \"True\"\n",
        "rotateString(\"abcde\",\"abced\") == False"
      ]
    },
    {
      "cell_type": "markdown",
      "id": "b7c86302",
      "metadata": {
        "id": "b7c86302"
      },
      "source": [
        "### [Problem 566](https://leetcode.com/problems/reshape-the-matrix/) - Reshape the Matrix\n",
        "\n",
        "In MATLAB, there is a handy function called `reshape` which can reshape an `m x n` matrix into a new one with a different size `r x c` keeping its original data.\n",
        "\n",
        "You are given an `m x n` matrix `mat` and two integers `r` and `c` representing the number of rows and the number of columns of the wanted reshaped matrix.\n",
        "\n",
        "The reshaped matrix should be filled with all the elements of the original matrix in the same row-traversing order as they were.\n",
        "\n",
        "If the `reshape` operation with given parameters is possible and legal, output the new reshaped matrix; Otherwise, output the original matrix."
      ]
    },
    {
      "cell_type": "markdown",
      "id": "e33cd78f",
      "metadata": {
        "id": "e33cd78f"
      },
      "source": [
        "Example 1:\n",
        "\n",
        "![](https://i.imgur.com/5Xhrau2.jpg)\n",
        "\n",
        "```\n",
        "Input: mat = [[1,2],[3,4]], r = 1, c = 4\n",
        "Output: [[1,2,3,4]]\n",
        "```\n",
        "\n",
        "Example 2:\n",
        "\n",
        "![](https://i.imgur.com/uolySBr.jpg)\n",
        "\n",
        "```\n",
        "Input: mat = [[1,2],[3,4]], r = 2, c = 4\n",
        "Output: [[1,2],[3,4]]\n",
        "```\n",
        "\n",
        "Constraints:\n",
        "```\n",
        "m == mat.length\n",
        "n == mat[i].length\n",
        "1 <= m, n <= 100\n",
        "-1000 <= mat[i][j] <= 1000\n",
        "1 <= r, c <= 300\n",
        "```"
      ]
    },
    {
      "cell_type": "code",
      "execution_count": null,
      "id": "1e282688",
      "metadata": {
        "id": "1e282688"
      },
      "outputs": [],
      "source": [
        "def matrixReshape(m, r, c):\n",
        "    ???"
      ]
    },
    {
      "cell_type": "code",
      "execution_count": null,
      "id": "89fc4be6",
      "metadata": {
        "id": "89fc4be6"
      },
      "outputs": [],
      "source": [
        "# This should return \"True\"\n",
        "matrixReshape([[1,2],[3,4]],1,4) == [[1,2,3,4]]"
      ]
    },
    {
      "cell_type": "code",
      "execution_count": null,
      "id": "57cbc738",
      "metadata": {
        "id": "57cbc738"
      },
      "outputs": [],
      "source": [
        "# This should return \"True\"\n",
        "matrixReshape([[1,2],[3,4]],2,4) == [[1,2],[3,4]]"
      ]
    },
    {
      "cell_type": "markdown",
      "id": "liable-tracker",
      "metadata": {
        "id": "liable-tracker"
      },
      "source": [
        "## Make Submission"
      ]
    },
    {
      "cell_type": "markdown",
      "id": "developmental-association",
      "metadata": {
        "id": "developmental-association"
      },
      "source": [
        "You can submit your Jovian notebook link on the assignment `submit` tag page\n",
        "\n",
        "Make sure to review the evaluation criteria carefully. You can make any number of submissions, and only your final submission will be evalauted."
      ]
    }
  ],
  "metadata": {
    "kernelspec": {
      "display_name": "Python 3 (ipykernel)",
      "language": "python",
      "name": "python3"
    },
    "language_info": {
      "codemirror_mode": {
        "name": "ipython",
        "version": 3
      },
      "file_extension": ".py",
      "mimetype": "text/x-python",
      "name": "python",
      "nbconvert_exporter": "python",
      "pygments_lexer": "ipython3",
      "version": "3.9.7"
    },
    "colab": {
      "provenance": [],
      "include_colab_link": true
    }
  },
  "nbformat": 4,
  "nbformat_minor": 5
}